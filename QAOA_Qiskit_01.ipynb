{
 "cells": [
  {
   "cell_type": "code",
   "execution_count": 1,
   "metadata": {},
   "outputs": [],
   "source": [
    "import numpy as np\n",
    "from qiskit import QuantumCircuit, QuantumRegister, ClassicalRegister, execute, BasicAer\n",
    "import math\n",
    "from matplotlib import pyplot as plt\n",
    "import random\n",
    "from scipy.optimize import minimize\n",
    "from qiskit.circuit.library import RZZGate\n",
    "import networkx as nx"
   ]
  },
  {
   "cell_type": "code",
   "execution_count": 2,
   "metadata": {},
   "outputs": [
    {
     "data": {
      "image/png": "[encoded data removed]",
      "text/plain": [
       "<Figure size 432x288 with 1 Axes>"
      ]
     },
     "metadata": {},
     "output_type": "display_data"
    }
   ],
   "source": [
    "N =4\n",
    "graph=[(0, 1,1.0), (0, 3,3.0), (1, 2,2.0), (2, 3,1.0)] \n",
    "G=nx.Graph()\n",
    "G.add_weighted_edges_from(graph)\n",
    "nx.draw(G,with_labels=True)"
   ]
  },
  {
   "cell_type": "code",
   "execution_count": 3,
   "metadata": {},
   "outputs": [],
   "source": [
    "A=np.zeros((int(N),int(N)))\n",
    "for i in graph:\n",
    "    A[i[0]][i[1]] = i[2]\n",
    "    A[i[1]][i[0]] = i[2]"
   ]
  },
  {
   "cell_type": "code",
   "execution_count": 4,
   "metadata": {},
   "outputs": [],
   "source": [
    "def initialization(circuit):\n",
    "    for qubit in circuit.qubits:\n",
    "        circuit.h(qubit)\n",
    "    return circuit"
   ]
  },
  {
   "cell_type": "code",
   "execution_count": 5,
   "metadata": {},
   "outputs": [],
   "source": [
    "def cost_unitary_layer(circuit, gamma):\n",
    "    for edge in graph:\n",
    "        op = RZZGate(gamma*edge[2])\n",
    "        circuit.append(op, [edge[0],edge[1]])\n",
    "    circuit.barrier()\n",
    "    return circuit"
   ]
  },
  {
   "cell_type": "code",
   "execution_count": 6,
   "metadata": {},
   "outputs": [],
   "source": [
    "def mixture_unitary_layer(circuit,alpha):\n",
    "    for qubit in circuit.qubits:\n",
    "        circuit.rx(alpha,qubit)\n",
    "    circuit.barrier()\n",
    "    return circuit"
   ]
  },
  {
   "cell_type": "code",
   "execution_count": 7,
   "metadata": {},
   "outputs": [],
   "source": [
    "n_layers = 4\n",
    "params = [float(random.randint(-314, 314))/float(100) for i in range(0, 2*n_layers)]\n",
    "def anasatz(params):\n",
    "    gammas = [params[0], params[2], params[4], params[6]]\n",
    "    alphas = [params[1], params[3], params[5], params[7]]\n",
    "    q = QuantumRegister(N)\n",
    "    c = ClassicalRegister(N)\n",
    "    circuit = QuantumCircuit(q,c)\n",
    "    circuit = initialization(circuit)\n",
    "    for i in range(n_layers):\n",
    "        circuit = cost_unitary_layer(circuit, gammas[i])\n",
    "        circuit = mixture_unitary_layer(circuit,alphas[i])\n",
    "    circuit.measure(circuit.qubits,c)\n",
    "    \n",
    "    simulator = BasicAer.get_backend('qasm_simulator')\n",
    "    result = execute(circuit, simulator).result()\n",
    "    counts = result.get_counts(circuit)\n",
    "    results = counts.keys()\n",
    "    new_res=[]\n",
    "    for key in results:\n",
    "        hold=[]\n",
    "        for i in range(0,len(key)):\n",
    "            hold.append(int(key[i]))\n",
    "        for i in range(0,counts[key]):\n",
    "            new_res.append(hold)\n",
    "    return circuit,counts,new_res"
   ]
  },
  {
   "cell_type": "code",
   "execution_count": 8,
   "metadata": {},
   "outputs": [
    {
     "name": "stdout",
     "output_type": "stream",
     "text": [
      "-7.03515625\n"
     ]
    }
   ],
   "source": [
    "def cost_function(params):\n",
    "    circuit,counts,result = anasatz(params)\n",
    "    total_cost = 0\n",
    "    for i in range(len(result)):\n",
    "        for edge in graph:\n",
    "            total_cost += (A[edge[0]][edge[1]])*(1-2*result[i][edge[0]])*(1-2*result[i][edge[1]]) + (A[edge[1]][edge[0]])*(1-2*result[i][edge[1]])*(1-2*result[i][edge[0]])\n",
    "    total_cost = total_cost/1024\n",
    "    return total_cost \n",
    "cost = cost_function(params)\n",
    "print(cost)"
   ]
  },
  {
   "cell_type": "code",
   "execution_count": 9,
   "metadata": {},
   "outputs": [
    {
     "name": "stdout",
     "output_type": "stream",
     "text": [
      "Out:      fun: -10.65234375\n",
      "   maxcv: 0.0\n",
      " message: 'Optimization terminated successfully.'\n",
      "    nfev: 89\n",
      "  status: 1\n",
      " success: True\n",
      "       x: array([-3.28286939,  0.16275828,  1.56260441, -0.85096331, -0.4849673 ,\n",
      "       -1.2410187 ,  3.46699937,  0.43110244])\n"
     ]
    }
   ],
   "source": [
    "num_iters = 100\n",
    "out = minimize(cost_function, x0=params, method=\"COBYLA\", options={'maxiter':num_iters})\n",
    "print(f'Out: {out}')"
   ]
  },
  {
   "cell_type": "code",
   "execution_count": 10,
   "metadata": {},
   "outputs": [
    {
     "data": {
      "image/png": "[encoded data removed]",
      "text/plain": [
       "<Figure size 432x288 with 1 Axes>"
      ]
     },
     "metadata": {},
     "output_type": "display_data"
    }
   ],
   "source": [
    "circuit,counts,result = anasatz(out['x'])\n",
    "x=[]\n",
    "y=[]\n",
    "for key in counts.keys():\n",
    "    number=0\n",
    "    for i in range(0,len(key)):\n",
    "        number = number + (2**i)*int(key[i])\n",
    "    x.append(number)\n",
    "    y.append(counts[key])\n",
    "import seaborn as sns\n",
    "sns.set()\n",
    "plt.bar(x,y,color='b')\n",
    "plt.xlabel(\"z\")\n",
    "plt.ylabel(\"frequency\")\n",
    "plt.show()"
   ]
  },
  {
   "cell_type": "code",
   "execution_count": null,
   "metadata": {},
   "outputs": [],
   "source": []
  }
 ],
 "metadata": {
  "kernelspec": {
   "display_name": "Python 3",
   "language": "python",
   "name": "python3"
  },
  "language_info": {
   "codemirror_mode": {
    "name": "ipython",
    "version": 3
   },
   "file_extension": ".py",
   "mimetype": "text/x-python",
   "name": "python",
   "nbconvert_exporter": "python",
   "pygments_lexer": "ipython3",
   "version": "3.8.5"
  }
 },
 "nbformat": 4,
 "nbformat_minor": 4
}
