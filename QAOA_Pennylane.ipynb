{
 "cells": [
  {
   "cell_type": "code",
   "execution_count": 1,
   "metadata": {},
   "outputs": [],
   "source": [
    "import networkx as nx\n",
    "import numpy as np\n",
    "from matplotlib import pyplot as plt\n",
    "import pennylane as qml\n",
    "from pennylane import numpy as np\n",
    "import random"
   ]
  },
  {
   "cell_type": "code",
   "execution_count": 2,
   "metadata": {},
   "outputs": [
    {
     "data": {
      "image/png": "[encoded data removed]",
      "text/plain": [
       "<Figure size 432x288 with 1 Axes>"
      ]
     },
     "metadata": {},
     "output_type": "display_data"
    }
   ],
   "source": [
    "np.random.seed(50)\n",
    "n_nodes=5\n",
    "graph = [(0,1,1.0),(1,2,9.0),(0,2,7.0),(3,1,5),(2,3,3.0),(0,3,1.0),(4,3,1),(4,2,1)]\n",
    "G=nx.Graph()\n",
    "G.add_weighted_edges_from(graph)\n",
    "nx.draw(G,with_labels=True)"
   ]
  },
  {
   "cell_type": "code",
   "execution_count": 3,
   "metadata": {},
   "outputs": [],
   "source": [
    "def initialization():\n",
    "    for i in range(n_nodes):\n",
    "        qml.Hadamard(wires=i)"
   ]
  },
  {
   "cell_type": "code",
   "execution_count": 4,
   "metadata": {},
   "outputs": [],
   "source": [
    "def cost_unitary(gamma):\n",
    "    for edge in graph:\n",
    "        qml.MultiRZ(gamma*edge[2], wires=[edge[0],edge[1]])"
   ]
  },
  {
   "cell_type": "code",
   "execution_count": 5,
   "metadata": {},
   "outputs": [],
   "source": [
    "def mixture_unitary(alpha):\n",
    "    for i in range(n_nodes):\n",
    "        qml.RX(alpha,wires=i)"
   ]
  },
  {
   "cell_type": "code",
   "execution_count": 6,
   "metadata": {},
   "outputs": [],
   "source": [
    "def comp_basis_measurement(wires):\n",
    "    n_wires = len(wires)\n",
    "    return qml.Hermitian(np.diag(range(2 ** n_wires)), wires=wires)"
   ]
  },
  {
   "cell_type": "code",
   "execution_count": 7,
   "metadata": {},
   "outputs": [],
   "source": [
    "pauli_z = [[1, 0], [0, -1]]\n",
    "pauli_z_2 = np.kron(pauli_z, pauli_z)\n",
    "\n",
    "dev = qml.device(\"default.qubit\", wires = n_nodes, analytic=True, shots=1)\n",
    "@qml.qnode(dev)\n",
    "def circuit(gammas, alphas, edge=None, n_layers=1):\n",
    "    initialization()\n",
    "    for i in range(n_layers):\n",
    "        cost_unitary(gammas[i])\n",
    "        mixture_unitary(alphas[i])\n",
    "    if edge is None:\n",
    "        return qml.sample(comp_basis_measurement(range(n_nodes)))\n",
    "    return qml.expval(qml.Hermitian(pauli_z_2, wires=[edge[0],edge[1]]))"
   ]
  },
  {
   "cell_type": "code",
   "execution_count": 8,
   "metadata": {},
   "outputs": [],
   "source": [
    "def create_params(params):\n",
    "    alphas = []\n",
    "    gammas = []\n",
    "    for i in range(int(len(params)/2)):\n",
    "        gammas.append(params[2*i])\n",
    "        alphas.append(params[2*i+1])\n",
    "    return gammas , alphas"
   ]
  },
  {
   "cell_type": "code",
   "execution_count": 9,
   "metadata": {},
   "outputs": [],
   "source": [
    "def cost(params):\n",
    "    gammas, alphas = create_params(params)\n",
    "    cost = 0\n",
    "    for edge in graph:\n",
    "        cost -= 0.5 * (1 - edge[2]*circuit(gammas, alphas, edge=edge, n_layers=int(len(params)/2)))\n",
    "    return cost"
   ]
  },
  {
   "cell_type": "code",
   "execution_count": 10,
   "metadata": {},
   "outputs": [],
   "source": [
    "def qaoa_maxcut(n_layers=1, steps = 30, n_samples = 100):\n",
    "    print(\"\\np={:d}\".format(n_layers))\n",
    "    init = np.array([float(random.randint(-314, 314))/float(10000) for i in range(0, 2*n_layers)])    \n",
    "    opt = qml.AdagradOptimizer(stepsize=0.5)\n",
    "    params = init\n",
    "    collect_costs = []\n",
    "    for i in range(steps):\n",
    "        params = opt.step(cost, params)\n",
    "        if (i + 1) % 5 == 0:\n",
    "            c = cost(params)\n",
    "            collect_costs.append(c)\n",
    "            print(\"Objective after step {:5d}: {: .7f}\".format(i + 1, c))\n",
    "            \n",
    "            \n",
    "    bit_strings = []\n",
    "    n_samples = 100\n",
    "    opt_gammas, opt_alphas = create_params(params)\n",
    "    for i in range(0, n_samples):\n",
    "        bit_strings.append(int(circuit(opt_gammas, opt_alphas, edge=None, n_layers=n_layers)))\n",
    "\n",
    "    # print optimal parameters and most frequently sampled bitstring\n",
    "    counts = np.bincount(np.array(bit_strings))\n",
    "    most_freq_bit_string = np.argmax(counts)\n",
    "    print(\"Optimized gamma vectors:\\n{}\".format(opt_gammas))\n",
    "    print(\"Optimized alphas vectors:\\n{}\".format(opt_alphas))\n",
    "    print(\"Most frequently sampled bit string is: {:04b}\".format(most_freq_bit_string))\n",
    "\n",
    "    return (cost(params), bit_strings,collect_costs)"
   ]
  },
  {
   "cell_type": "code",
   "execution_count": 11,
   "metadata": {},
   "outputs": [
    {
     "name": "stdout",
     "output_type": "stream",
     "text": [
      "\n",
      "p=1\n",
      "Objective after step     5: -6.2715971\n",
      "Objective after step    10: -8.1690700\n",
      "Objective after step    15: -8.5436608\n",
      "Objective after step    20: -8.7795555\n",
      "Objective after step    25: -8.8511313\n",
      "Objective after step    30: -8.8824238\n",
      "Objective after step    35: -8.8933358\n",
      "Objective after step    40: -8.8976936\n",
      "Objective after step    45: -8.8992937\n",
      "Objective after step    50: -8.8999122\n",
      "Objective after step    55: -8.9001438\n",
      "Objective after step    60: -8.9002323\n",
      "Objective after step    65: -8.9002656\n",
      "Objective after step    70: -8.9002783\n",
      "Objective after step    75: -8.9002831\n",
      "Objective after step    80: -8.9002849\n",
      "Objective after step    85: -8.9002856\n",
      "Objective after step    90: -8.9002859\n",
      "Objective after step    95: -8.9002860\n",
      "Objective after step   100: -8.9002860\n",
      "Objective after step   105: -8.9002860\n",
      "Objective after step   110: -8.9002860\n",
      "Objective after step   115: -8.9002860\n",
      "Objective after step   120: -8.9002860\n",
      "Optimized gamma vectors:\n",
      "[tensor(-0.42505731, requires_grad=True)]\n",
      "Optimized alphas vectors:\n",
      "[tensor(1.37611549, requires_grad=True)]\n",
      "Most frequently sampled bit string is: 11010\n",
      "\n",
      "p=2\n",
      "Objective after step     5: -4.1077942\n",
      "Objective after step    10: -4.1516118\n",
      "Objective after step    15: -5.8513859\n",
      "Objective after step    20:  1.7988875\n",
      "Objective after step    25: -6.2973459\n",
      "Objective after step    30: -4.4222668\n",
      "Objective after step    35: -4.2822542\n",
      "Objective after step    40: -7.3518623\n",
      "Objective after step    45: -4.8580928\n",
      "Objective after step    50: -8.8655530\n",
      "Objective after step    55: -7.1563257\n",
      "Objective after step    60: -8.0537859\n",
      "Objective after step    65: -8.0984424\n",
      "Objective after step    70: -8.4673256\n",
      "Objective after step    75: -8.4362474\n",
      "Objective after step    80: -8.5997091\n",
      "Objective after step    85: -8.5843802\n",
      "Objective after step    90: -8.6992258\n",
      "Objective after step    95: -8.7017895\n",
      "Objective after step   100: -8.7837150\n",
      "Objective after step   105: -8.7942115\n",
      "Objective after step   110: -8.8513066\n",
      "Objective after step   115: -8.8636417\n",
      "Objective after step   120: -8.9028697\n",
      "Optimized gamma vectors:\n",
      "[tensor(0.51490956, requires_grad=True), tensor(-0.91001965, requires_grad=True)]\n",
      "Optimized alphas vectors:\n",
      "[tensor(0.23645271, requires_grad=True), tensor(-1.77451909, requires_grad=True)]\n",
      "Most frequently sampled bit string is: 0110\n"
     ]
    }
   ],
   "source": [
    "results1 = qaoa_maxcut(n_layers=1,steps=120,n_samples = 100)\n",
    "results2 = qaoa_maxcut(n_layers=2,steps=120,n_samples = 100)"
   ]
  },
  {
   "cell_type": "code",
   "execution_count": 16,
   "metadata": {},
   "outputs": [
    {
     "data": {
      "image/png": "[encoded data removed]",
      "text/plain": [
       "<Figure size 432x288 with 1 Axes>"
      ]
     },
     "metadata": {
      "needs_background": "light"
     },
     "output_type": "display_data"
    }
   ],
   "source": [
    "y1 = results1[2] \n",
    "y2 = results2[2]\n",
    "X = []\n",
    "for i in range(120):\n",
    "    if (i + 1) % 5 == 0:\n",
    "        X.append(i+1)\n",
    "plt.plot(X,y1)\n",
    "plt.plot(X,y2)\n",
    "plt.legend([\"l=1\", \"l=2\"], loc =\"upper right\")\n",
    "  \n",
    "plt.show()"
   ]
  },
  {
   "cell_type": "code",
   "execution_count": 17,
   "metadata": {},
   "outputs": [
    {
     "name": "stdout",
     "output_type": "stream",
     "text": [
      "\n",
      "p=3\n",
      "Objective after step     5: -5.7413522\n",
      "Objective after step    10: -4.1873807\n",
      "Objective after step    15: -6.1740964\n",
      "Objective after step    20: -5.6878751\n",
      "Objective after step    25: -6.2739738\n",
      "Objective after step    30: -9.1052914\n",
      "Objective after step    35: -6.6729931\n",
      "Objective after step    40: -7.4013117\n",
      "Objective after step    45: -8.3325211\n",
      "Objective after step    50: -7.2102473\n",
      "Objective after step    55: -7.7170356\n",
      "Objective after step    60: -8.6877877\n",
      "Objective after step    65: -8.3639238\n",
      "Objective after step    70: -8.8654933\n",
      "Objective after step    75: -8.7184507\n",
      "Objective after step    80: -9.1269377\n",
      "Objective after step    85: -9.0743751\n",
      "Objective after step    90: -9.3565235\n",
      "Objective after step    95: -9.3648675\n",
      "Objective after step   100: -9.5586547\n",
      "Objective after step   105: -9.5931900\n",
      "Objective after step   110: -9.7266721\n",
      "Objective after step   115: -9.7671250\n",
      "Objective after step   120: -9.8592983\n",
      "Objective after step   125: -9.8964554\n",
      "Objective after step   130: -9.9602279\n",
      "Objective after step   135: -9.9909849\n",
      "Objective after step   140: -10.0351919\n",
      "Objective after step   145: -10.0592874\n",
      "Objective after step   150: -10.0899913\n",
      "Objective after step   155: -10.1082676\n",
      "Objective after step   160: -10.1296333\n",
      "Objective after step   165: -10.1432176\n",
      "Objective after step   170: -10.1581118\n",
      "Objective after step   175: -10.1680749\n",
      "Objective after step   180: -10.1784746\n",
      "Objective after step   185: -10.1857155\n",
      "Objective after step   190: -10.1929878\n",
      "Objective after step   195: -10.1982165\n",
      "Objective after step   200: -10.2033087\n",
      "Objective after step   205: -10.2070668\n",
      "Objective after step   210: -10.2106368\n",
      "Objective after step   215: -10.2133286\n",
      "Objective after step   220: -10.2158341\n",
      "Optimized gamma vectors:\n",
      "[tensor(1.01267681, requires_grad=True), tensor(0.99364885, requires_grad=True), tensor(0.36145324, requires_grad=True)]\n",
      "Optimized alphas vectors:\n",
      "[tensor(2.18605044, requires_grad=True), tensor(-0.45032541, requires_grad=True), tensor(1.22026518, requires_grad=True)]\n",
      "Most frequently sampled bit string is: 0110\n",
      "\n",
      "p=4\n",
      "Objective after step     5: -3.2902866\n",
      "Objective after step    10: -4.4247468\n",
      "Objective after step    15: -5.0894827\n",
      "Objective after step    20: -6.3901395\n",
      "Objective after step    25: -6.5207697\n",
      "Objective after step    30: -5.0977553\n",
      "Objective after step    35: -6.3564420\n",
      "Objective after step    40: -8.6247713\n",
      "Objective after step    45: -7.8183969\n",
      "Objective after step    50: -9.1817478\n",
      "Objective after step    55: -10.2713520\n",
      "Objective after step    60: -9.8095878\n",
      "Objective after step    65: -6.8170056\n",
      "Objective after step    70: -8.7112304\n",
      "Objective after step    75: -8.5031427\n",
      "Objective after step    80: -9.5120044\n",
      "Objective after step    85: -9.2955019\n",
      "Objective after step    90: -9.8746487\n",
      "Objective after step    95: -9.0239031\n",
      "Objective after step   100: -9.7797786\n",
      "Objective after step   105: -9.3253151\n",
      "Objective after step   110: -9.9252471\n",
      "Objective after step   115: -9.5212468\n",
      "Objective after step   120: -9.9678890\n",
      "Objective after step   125: -9.6536083\n",
      "Objective after step   130: -10.0189213\n",
      "Objective after step   135: -9.7847379\n",
      "Objective after step   140: -10.0779243\n",
      "Objective after step   145: -9.9291943\n",
      "Objective after step   150: -10.1517470\n",
      "Objective after step   155: -10.0762900\n",
      "Objective after step   160: -10.2381449\n",
      "Objective after step   165: -10.2077249\n",
      "Objective after step   170: -10.3231209\n",
      "Objective after step   175: -10.3149662\n",
      "Objective after step   180: -10.3968558\n",
      "Objective after step   185: -10.3984197\n",
      "Objective after step   190: -10.4566134\n",
      "Objective after step   195: -10.4619081\n",
      "Objective after step   200: -10.5033914\n",
      "Objective after step   205: -10.5097024\n",
      "Objective after step   210: -10.5393796\n",
      "Objective after step   215: -10.5455209\n",
      "Objective after step   220: -10.5668337\n",
      "Optimized gamma vectors:\n",
      "[tensor(-1.29289506, requires_grad=True), tensor(0.66322921, requires_grad=True), tensor(-1.29030198, requires_grad=True), tensor(-0.63626541, requires_grad=True)]\n",
      "Optimized alphas vectors:\n",
      "[tensor(-1.53637949, requires_grad=True), tensor(-0.92057796, requires_grad=True), tensor(-1.04293325, requires_grad=True), tensor(-1.7247973, requires_grad=True)]\n",
      "Most frequently sampled bit string is: 0111\n"
     ]
    }
   ],
   "source": [
    "results3 = qaoa_maxcut(n_layers=3,steps=220,n_samples = 300)\n",
    "results4 = qaoa_maxcut(n_layers=4,steps=220,n_samples = 400)"
   ]
  },
  {
   "cell_type": "code",
   "execution_count": 24,
   "metadata": {},
   "outputs": [
    {
     "data": {
      "image/png": "[encoded data removed]",
      "text/plain": [
       "<Figure size 432x288 with 1 Axes>"
      ]
     },
     "metadata": {
      "needs_background": "light"
     },
     "output_type": "display_data"
    }
   ],
   "source": [
    "y3 = results3[2] \n",
    "y4 = results4[2]\n",
    "X2 = []\n",
    "for i in range(220):\n",
    "    if (i + 1) % 5 == 0:\n",
    "        X2.append(i+1)\n",
    "plt.plot(X2,y3)\n",
    "plt.plot(X2,y4)\n",
    "plt.legend([\"l=1\", \"l=2\"], loc =\"upper right\")\n",
    "  \n",
    "plt.show()"
   ]
  },
  {
   "cell_type": "code",
   "execution_count": 25,
   "metadata": {},
   "outputs": [
    {
     "name": "stdout",
     "output_type": "stream",
     "text": [
      "\n",
      "p=5\n",
      "Objective after step     5: -4.8052068\n",
      "Objective after step    10: -0.8351835\n",
      "Objective after step    15: -4.9091271\n",
      "Objective after step    20: -4.8082472\n",
      "Objective after step    25: -4.4186616\n",
      "Objective after step    30: -4.5427637\n",
      "Objective after step    35: -5.3202763\n",
      "Objective after step    40: -7.4038201\n",
      "Objective after step    45: -7.7349803\n",
      "Objective after step    50: -7.4819170\n",
      "Objective after step    55: -8.7673012\n",
      "Objective after step    60: -8.0771546\n",
      "Objective after step    65: -9.0482790\n",
      "Objective after step    70: -8.8713657\n",
      "Objective after step    75: -9.1479292\n",
      "Objective after step    80: -9.1414210\n",
      "Objective after step    85: -9.3193895\n",
      "Objective after step    90: -9.1636776\n",
      "Objective after step    95: -9.7290429\n",
      "Objective after step   100: -9.7657787\n",
      "Objective after step   105: -10.1786988\n",
      "Objective after step   110: -10.3731600\n",
      "Objective after step   115: -9.9613421\n",
      "Objective after step   120: -10.5160067\n",
      "Objective after step   125: -10.2642749\n",
      "Objective after step   130: -10.5287755\n",
      "Objective after step   135: -10.3539937\n",
      "Objective after step   140: -10.5583270\n",
      "Objective after step   145: -10.4226618\n",
      "Objective after step   150: -10.5851322\n",
      "Objective after step   155: -10.4764817\n",
      "Objective after step   160: -10.6089318\n",
      "Objective after step   165: -10.5204204\n",
      "Objective after step   170: -10.6301129\n",
      "Objective after step   175: -10.5573079\n",
      "Objective after step   180: -10.6490656\n",
      "Objective after step   185: -10.5888295\n",
      "Objective after step   190: -10.6660835\n",
      "Objective after step   195: -10.6160502\n",
      "Objective after step   200: -10.6813818\n",
      "Objective after step   205: -10.6396955\n",
      "Objective after step   210: -10.6951278\n",
      "Objective after step   215: -10.6603004\n",
      "Objective after step   220: -10.7074625\n",
      "Objective after step   225: -10.6782869\n",
      "Objective after step   230: -10.7185133\n",
      "Objective after step   235: -10.6940042\n",
      "Objective after step   240: -10.7283987\n",
      "Optimized gamma vectors:\n",
      "[tensor(-0.44301442, requires_grad=True), tensor(0.81032382, requires_grad=True), tensor(-0.24358597, requires_grad=True), tensor(-1.97748146, requires_grad=True), tensor(-2.192695, requires_grad=True)]\n",
      "Optimized alphas vectors:\n",
      "[tensor(1.38411945, requires_grad=True), tensor(2.8232989, requires_grad=True), tensor(-0.44902704, requires_grad=True), tensor(-0.20354234, requires_grad=True), tensor(3.04474991, requires_grad=True)]\n",
      "Most frequently sampled bit string is: 0110\n"
     ]
    }
   ],
   "source": [
    "results5 = qaoa_maxcut(n_layers=5,steps=240,n_samples = 500)"
   ]
  },
  {
   "cell_type": "code",
   "execution_count": 26,
   "metadata": {},
   "outputs": [
    {
     "name": "stdout",
     "output_type": "stream",
     "text": [
      "\n",
      "p=6\n",
      "Objective after step     5: -3.1667527\n",
      "Objective after step    10: -1.7530234\n",
      "Objective after step    15: -5.3107723\n",
      "Objective after step    20: -6.4709320\n",
      "Objective after step    25: -5.7259732\n",
      "Objective after step    30: -7.3375603\n",
      "Objective after step    35: -7.9491269\n",
      "Objective after step    40: -7.2583033\n",
      "Objective after step    45: -6.9961640\n",
      "Objective after step    50: -6.1934596\n",
      "Objective after step    55: -7.3571509\n",
      "Objective after step    60: -6.9552282\n",
      "Objective after step    65: -9.1876092\n",
      "Objective after step    70: -8.5012528\n",
      "Objective after step    75: -8.1077583\n",
      "Objective after step    80: -7.4219887\n",
      "Objective after step    85: -8.7434805\n",
      "Objective after step    90: -7.7535670\n",
      "Objective after step    95: -8.9473001\n",
      "Objective after step   100: -9.0472020\n",
      "Objective after step   105: -8.8824669\n",
      "Objective after step   110: -8.8261023\n",
      "Objective after step   115: -9.2188231\n",
      "Objective after step   120: -8.8713049\n",
      "Objective after step   125: -9.7200593\n",
      "Objective after step   130: -8.9408343\n",
      "Objective after step   135: -9.4366290\n",
      "Objective after step   140: -10.0944859\n",
      "Objective after step   145: -8.8534777\n",
      "Objective after step   150: -9.4557451\n",
      "Objective after step   155: -9.4813650\n",
      "Objective after step   160: -9.6905418\n",
      "Objective after step   165: -9.2517694\n",
      "Objective after step   170: -9.4809808\n",
      "Objective after step   175: -9.2292631\n",
      "Objective after step   180: -10.0960910\n",
      "Objective after step   185: -9.4059345\n",
      "Objective after step   190: -8.9356856\n",
      "Objective after step   195: -9.3830162\n",
      "Objective after step   200: -9.8886045\n",
      "Objective after step   205: -10.0805948\n",
      "Objective after step   210: -9.5512277\n",
      "Objective after step   215: -9.3249200\n",
      "Objective after step   220: -9.6591872\n",
      "Objective after step   225: -9.7312393\n",
      "Objective after step   230: -9.9848566\n",
      "Objective after step   235: -10.4843478\n",
      "Objective after step   240: -9.8802858\n",
      "Optimized gamma vectors:\n",
      "[tensor(1.52890556, requires_grad=True), tensor(1.77951377, requires_grad=True), tensor(1.90466493, requires_grad=True), tensor(2.18370652, requires_grad=True), tensor(2.70268825, requires_grad=True), tensor(1.9104073, requires_grad=True)]\n",
      "Optimized alphas vectors:\n",
      "[tensor(-0.7282383, requires_grad=True), tensor(0.79388498, requires_grad=True), tensor(0.95338292, requires_grad=True), tensor(-0.1805705, requires_grad=True), tensor(-0.38343929, requires_grad=True), tensor(0.31724842, requires_grad=True)]\n",
      "Most frequently sampled bit string is: 0110\n"
     ]
    }
   ],
   "source": [
    "results6 = qaoa_maxcut(n_layers=6,steps=240,n_samples = 500)"
   ]
  },
  {
   "cell_type": "code",
   "execution_count": 28,
   "metadata": {},
   "outputs": [
    {
     "data": {
      "image/png": "[encoded data removed]",
      "text/plain": [
       "<Figure size 432x288 with 1 Axes>"
      ]
     },
     "metadata": {
      "needs_background": "light"
     },
     "output_type": "display_data"
    }
   ],
   "source": [
    "y5 = results5[2]\n",
    "y6 = results6[2]\n",
    "X3=[]\n",
    "for i in range(240):\n",
    "    if (i+1) % 5 == 0:\n",
    "        X3.append(i+1)\n",
    "plt.plot(X3,y5)\n",
    "plt.plot(X3,y6)\n",
    "plt.legend([\"l=5\", \"l=6\"], loc =\"upper right\")\n",
    "  \n",
    "plt.show()"
   ]
  },
  {
   "cell_type": "code",
   "execution_count": 29,
   "metadata": {},
   "outputs": [
    {
     "data": {
      "image/png": "[encoded data removed]",
      "text/plain": [
       "<Figure size 1440x576 with 6 Axes>"
      ]
     },
     "metadata": {
      "needs_background": "light"
     },
     "output_type": "display_data"
    }
   ],
   "source": [
    "xticks = range(0, 32)\n",
    "xtick_labels = list(map(lambda x: format(x, \"04b\"), xticks))\n",
    "bins = np.arange(0, 33) - 0.5\n",
    "\n",
    "fig, (ax1, ax2) = plt.subplots(2, 3, figsize=(20, 8))\n",
    "\n",
    "plt.subplot(2, 3, 1)\n",
    "plt.title(\"n_layers=1\")\n",
    "plt.xlabel(\"Bitstrings\")\n",
    "plt.ylabel(\"Frequency\")\n",
    "plt.xticks(xticks, xtick_labels, rotation=\"vertical\")\n",
    "plt.hist(results1[1], bins=bins)\n",
    "\n",
    "plt.subplot(2, 3, 2)\n",
    "plt.title(\"n_layers=2\")\n",
    "plt.xlabel(\"Bitstrings\")\n",
    "plt.ylabel(\"Frequency\")\n",
    "plt.xticks(xticks, xtick_labels, rotation=\"vertical\")\n",
    "plt.hist(results2[1], bins=bins)\n",
    "\n",
    "plt.subplot(2, 3, 3)\n",
    "plt.title(\"n_layers=3\")\n",
    "plt.xlabel(\"Bitstrings\")\n",
    "plt.ylabel(\"Frequency\")\n",
    "plt.xticks(xticks, xtick_labels, rotation=\"vertical\")\n",
    "plt.hist(results3[1], bins=bins)\n",
    "\n",
    "plt.subplot(2, 3, 4)\n",
    "plt.title(\"n_layers=4\")\n",
    "plt.xlabel(\"Bitstrings\")\n",
    "plt.ylabel(\"Frequency\")\n",
    "plt.xticks(xticks, xtick_labels, rotation=\"vertical\")\n",
    "plt.hist(results4[1], bins=bins)\n",
    "\n",
    "plt.subplot(2, 3, 5)\n",
    "plt.title(\"n_layers=5\")\n",
    "plt.xlabel(\"Bitstrings\")\n",
    "plt.ylabel(\"Frequency\")\n",
    "plt.xticks(xticks, xtick_labels, rotation=\"vertical\")\n",
    "plt.hist(results5[1], bins=bins)\n",
    "\n",
    "plt.subplot(2, 3, 6)\n",
    "plt.title(\"n_layers=6\")\n",
    "plt.xlabel(\"Bitstrings\")\n",
    "plt.ylabel(\"Frequency\")\n",
    "plt.xticks(xticks, xtick_labels, rotation=\"vertical\")\n",
    "plt.hist(results6[1], bins=bins)\n",
    "\n",
    "plt.tight_layout()\n",
    "plt.show()"
   ]
  },
  {
   "cell_type": "code",
   "execution_count": null,
   "metadata": {},
   "outputs": [],
   "source": []
  }
 ],
 "metadata": {
  "kernelspec": {
   "display_name": "Python 3",
   "language": "python",
   "name": "python3"
  },
  "language_info": {
   "codemirror_mode": {
    "name": "ipython",
    "version": 3
   },
   "file_extension": ".py",
   "mimetype": "text/x-python",
   "name": "python",
   "nbconvert_exporter": "python",
   "pygments_lexer": "ipython3",
   "version": "3.8.5"
  }
 },
 "nbformat": 4,
 "nbformat_minor": 4
}
